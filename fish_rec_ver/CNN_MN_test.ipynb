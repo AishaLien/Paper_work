{
 "cells": [
  {
   "cell_type": "markdown",
   "metadata": {},
   "source": [
    "# 資料準備"
   ]
  },
  {
   "cell_type": "code",
   "execution_count": 1,
   "metadata": {},
   "outputs": [],
   "source": [
    "import time\n",
    "import math\n",
    "import random\n",
    "import pandas as pd\n",
    "import numpy as np\n",
    "import matplotlib.pyplot as plt\n",
    "import tensorflow as tf\n",
    "import cv2\n",
    "import data\n",
    "#import dataset\n",
    "\n",
    "from sklearn.metrics import confusion_matrix\n",
    "from datetime import timedelta\n",
    "\n",
    "%matplotlib inline"
   ]
  },
  {
   "cell_type": "markdown",
   "metadata": {},
   "source": [
    "# 設定參數"
   ]
  },
  {
   "cell_type": "code",
   "execution_count": 2,
   "metadata": {},
   "outputs": [],
   "source": [
    "# Number of color channels for the images: 1 channel for gray-scale.\n",
    "num_channels =1\n",
    "\n",
    "# image dimensions (only squares for now)\n",
    "img_size = 28\n",
    "\n",
    "# Size of image when flattened to a single dimension\n",
    "img_size_flat = img_size * img_size * num_channels\n",
    "\n",
    "# Tuple with height and width of images used to reshape arrays.\n",
    "img_shape = (img_size, img_size)\n",
    "\n",
    "# class info\n",
    "#classes = ['Brook','Clown','Gold','Soldier','White']\n",
    "classes = ['0','1','2','3','4','5','6','7','8','9']\n",
    "num_classes = len(classes)\n",
    "\n",
    "# batch size\n",
    "batchSize = 100\n",
    "\n",
    "# validation split\n",
    "validation_size = .15\n",
    "testdation_size = .15\n",
    "\n",
    "# how long to wait after validation loss stops improving before terminating training\n",
    "early_stopping = None  # use None if you don't want to implement early stoping\n",
    "\n",
    "train_path = 'U:/git/fish_Recognition/mnist_png/training'\n",
    "test_path = 'U:/git/fish_Recognition/mnist_png/testing'\n",
    "checkpoint_dir = \"./set_models/\""
   ]
  },
  {
   "cell_type": "markdown",
   "metadata": {},
   "source": [
    "# 建立共用函數"
   ]
  },
  {
   "cell_type": "code",
   "execution_count": 3,
   "metadata": {
    "scrolled": false
   },
   "outputs": [
    {
     "name": "stdout",
     "output_type": "stream",
     "text": [
      "Reading training images\n",
      "Loading 0 files (Index: 0)\n",
      "Loading 1 files (Index: 1)\n",
      "Loading 2 files (Index: 2)\n",
      "Loading 3 files (Index: 3)\n",
      "Loading 4 files (Index: 4)\n",
      "Loading 5 files (Index: 5)\n",
      "Loading 6 files (Index: 6)\n",
      "Loading 7 files (Index: 7)\n",
      "Loading 8 files (Index: 8)\n",
      "Loading 9 files (Index: 9)\n"
     ]
    }
   ],
   "source": [
    "#data = dataset.read_train_sets(train_path, img_size, classes, validation_size=validation_size)\n",
    "#test_data = dataset.read_test_set(test_path, img_size, classes, validation_size=0)\n",
    "data = data.read_train_sets(train_path, img_size, classes, validation_size=validation_size,testdation_size=testdation_size)"
   ]
  },
  {
   "cell_type": "code",
   "execution_count": 4,
   "metadata": {},
   "outputs": [
    {
     "name": "stdout",
     "output_type": "stream",
     "text": [
      "Size of:\n",
      "- Training-set:\t\t42000\n",
      "- Validation-set:\t9000\n",
      "-Testdation-set:\t9000\n"
     ]
    }
   ],
   "source": [
    "print(\"Size of:\")\n",
    "print(\"- Training-set:\\t\\t{}\".format(len(data.train.labels)))\n",
    "#print(\"- Test-set:\\t\\t{}\".format(len(test_images)))\n",
    "print(\"- Validation-set:\\t{}\".format(len(data.valid.labels)))\n",
    "print(\"-Testdation-set:\\t{}\".format(len(data.test.labels)))"
   ]
  },
  {
   "cell_type": "code",
   "execution_count": 5,
   "metadata": {},
   "outputs": [],
   "source": [
    "def weight(shape):\n",
    "    return tf.Variable(tf.truncated_normal(shape, stddev=0.1),\n",
    "                       name ='W')"
   ]
  },
  {
   "cell_type": "code",
   "execution_count": 6,
   "metadata": {},
   "outputs": [],
   "source": [
    "def bias(shape):\n",
    "    return tf.Variable(tf.constant(0.1, shape=shape)\n",
    "                       , name = 'b')"
   ]
  },
  {
   "cell_type": "code",
   "execution_count": 7,
   "metadata": {},
   "outputs": [],
   "source": [
    "def conv2d(x, W):\n",
    "    return tf.nn.conv2d(x, W, strides=[1,1,1,1], \n",
    "                        padding='SAME')"
   ]
  },
  {
   "cell_type": "code",
   "execution_count": 8,
   "metadata": {},
   "outputs": [],
   "source": [
    "def max_pool_2x2(x):\n",
    "    return tf.nn.max_pool(x, ksize=[1,2,2,1], \n",
    "                          strides=[1,2,2,1], \n",
    "                          padding='SAME')"
   ]
  },
  {
   "cell_type": "markdown",
   "metadata": {
    "collapsed": true
   },
   "source": [
    "# 輸入層 Input Layer"
   ]
  },
  {
   "cell_type": "code",
   "execution_count": 9,
   "metadata": {},
   "outputs": [],
   "source": [
    "with tf.name_scope('Input_Layer'):\n",
    "    x = tf.placeholder(\"float\",shape=[None, img_size_flat]\n",
    "                       ,name=\"x\")    \n",
    "    x_image = tf.reshape(x, [-1, img_size, img_size,num_channels])"
   ]
  },
  {
   "cell_type": "markdown",
   "metadata": {},
   "source": [
    "# Convolutional Layer 1"
   ]
  },
  {
   "cell_type": "code",
   "execution_count": 10,
   "metadata": {},
   "outputs": [],
   "source": [
    "with tf.name_scope('C1_Conv'):\n",
    "    W1 = weight([5,5,num_channels,16])\n",
    "    b1 = bias([16])\n",
    "    Conv1=conv2d(x_image, W1)+ b1\n",
    "    C1_Conv = tf.nn.relu(Conv1 )"
   ]
  },
  {
   "cell_type": "code",
   "execution_count": 11,
   "metadata": {},
   "outputs": [],
   "source": [
    "with tf.name_scope('C1_Pool'):\n",
    "    C1_Pool = max_pool_2x2(C1_Conv)"
   ]
  },
  {
   "cell_type": "markdown",
   "metadata": {},
   "source": [
    "# Convolutional Layer 2"
   ]
  },
  {
   "cell_type": "code",
   "execution_count": 12,
   "metadata": {},
   "outputs": [],
   "source": [
    "with tf.name_scope('C2_Conv'):\n",
    "    W2 = weight([5,5,16,36])\n",
    "    b2 = bias([36])\n",
    "    Conv2=conv2d(C1_Pool, W2)+ b2\n",
    "    C2_Conv = tf.nn.relu(Conv2)"
   ]
  },
  {
   "cell_type": "code",
   "execution_count": 13,
   "metadata": {},
   "outputs": [],
   "source": [
    "with tf.name_scope('C2_Pool'):\n",
    "    C2_Pool = max_pool_2x2(C2_Conv) "
   ]
  },
  {
   "cell_type": "markdown",
   "metadata": {},
   "source": [
    "# Fully Connected Layer"
   ]
  },
  {
   "cell_type": "code",
   "execution_count": 14,
   "metadata": {},
   "outputs": [],
   "source": [
    "with tf.name_scope('D_Flat'):\n",
    "    layer_shape = C2_Pool.get_shape()\n",
    "    num_features = layer_shape[1:4].num_elements()\n",
    "    D_Flat = tf.reshape(C2_Pool, [-1, num_features])"
   ]
  },
  {
   "cell_type": "code",
   "execution_count": 15,
   "metadata": {},
   "outputs": [],
   "source": [
    "with tf.name_scope('D_Hidden_Layer'):\n",
    "    W3= weight([num_features, 128])\n",
    "    b3= bias([128])\n",
    "    D_Hidden = tf.nn.relu(\n",
    "                  tf.matmul(D_Flat, W3)+b3)\n",
    "    D_Hidden_Dropout= tf.nn.dropout(D_Hidden, \n",
    "                                keep_prob=0.7)"
   ]
  },
  {
   "cell_type": "markdown",
   "metadata": {
    "collapsed": true
   },
   "source": [
    "# 輸出層Output"
   ]
  },
  {
   "cell_type": "code",
   "execution_count": 16,
   "metadata": {},
   "outputs": [],
   "source": [
    "with tf.name_scope('Output_Layer'):\n",
    "    W4 = weight([128,num_classes])\n",
    "    b4 = bias([num_classes])\n",
    "    y_predict= tf.nn.softmax(\n",
    "                 tf.matmul(D_Hidden_Dropout,\n",
    "                           W4)+b4)"
   ]
  },
  {
   "cell_type": "markdown",
   "metadata": {},
   "source": [
    "# 設定訓練模型最佳化步驟"
   ]
  },
  {
   "cell_type": "code",
   "execution_count": 17,
   "metadata": {},
   "outputs": [
    {
     "name": "stdout",
     "output_type": "stream",
     "text": [
      "WARNING:tensorflow:From <ipython-input-17-71b23ac73e47>:9: softmax_cross_entropy_with_logits (from tensorflow.python.ops.nn_ops) is deprecated and will be removed in a future version.\n",
      "Instructions for updating:\n",
      "\n",
      "Future major versions of TensorFlow will allow gradients to flow\n",
      "into the labels input on backprop by default.\n",
      "\n",
      "See @{tf.nn.softmax_cross_entropy_with_logits_v2}.\n",
      "\n"
     ]
    }
   ],
   "source": [
    "with tf.name_scope(\"optimizer\"):\n",
    "    \n",
    "    y_label = tf.placeholder(\"float\", shape=[None, num_classes], \n",
    "                              name=\"y_label\")\n",
    "    \n",
    "    loss_function = tf.reduce_mean(\n",
    "                      tf.nn.softmax_cross_entropy_with_logits\n",
    "                         (logits=y_predict , \n",
    "                          labels=y_label))\n",
    "    \n",
    "    optimizer = tf.train.AdamOptimizer(learning_rate=0.00001) \\\n",
    "                    .minimize(loss_function)"
   ]
  },
  {
   "cell_type": "markdown",
   "metadata": {},
   "source": [
    "# 設定評估模型"
   ]
  },
  {
   "cell_type": "code",
   "execution_count": 18,
   "metadata": {},
   "outputs": [],
   "source": [
    "with tf.name_scope(\"evaluate_model\"):\n",
    "    correct_prediction = tf.equal(tf.argmax(y_predict, 1),\n",
    "                                  tf.argmax(y_label, 1))\n",
    "    accuracy = tf.reduce_mean(tf.cast(correct_prediction, \"float\")) # 非零為一，的平均差"
   ]
  },
  {
   "cell_type": "markdown",
   "metadata": {},
   "source": [
    "# 訓練模型"
   ]
  },
  {
   "cell_type": "code",
   "execution_count": 19,
   "metadata": {},
   "outputs": [],
   "source": [
    "trainEpochs = 100\n",
    "train_batch_size = batchSize\n",
    "valid_batch_size =  9000\n",
    "totalBatchs = int(len(data.train.labels)/batchSize)\n",
    "epoch_list=[];accuracy_list=[];loss_list=[];\n",
    "from time import time\n",
    "startTime=time()\n",
    "sess = tf.Session()\n",
    "sess.run(tf.global_variables_initializer())"
   ]
  },
  {
   "cell_type": "code",
   "execution_count": 20,
   "metadata": {
    "scrolled": true
   },
   "outputs": [
    {
     "name": "stdout",
     "output_type": "stream",
     "text": [
      "Train Epoch: 01 Loss= 2.182258844  Accuracy= 0.34477776\n",
      "Train Epoch: 02 Loss= 2.016752720  Accuracy= 0.519\n",
      "Train Epoch: 03 Loss= 1.925380588  Accuracy= 0.59977776\n",
      "Train Epoch: 04 Loss= 1.847987175  Accuracy= 0.66977775\n",
      "Train Epoch: 05 Loss= 1.807622790  Accuracy= 0.6946667\n",
      "Train Epoch: 06 Loss= 1.762772441  Accuracy= 0.7492222\n",
      "Train Epoch: 07 Loss= 1.731927633  Accuracy= 0.77133334\n",
      "Train Epoch: 08 Loss= 1.712656260  Accuracy= 0.7841111\n",
      "Train Epoch: 09 Loss= 1.697084665  Accuracy= 0.79355556\n",
      "Train Epoch: 10 Loss= 1.688365459  Accuracy= 0.798\n",
      "Train Epoch: 11 Loss= 1.679765224  Accuracy= 0.8054444\n",
      "Train Epoch: 12 Loss= 1.670454025  Accuracy= 0.81288886\n",
      "Train Epoch: 13 Loss= 1.667023659  Accuracy= 0.8111111\n",
      "Train Epoch: 14 Loss= 1.659948945  Accuracy= 0.818\n",
      "Train Epoch: 15 Loss= 1.655574679  Accuracy= 0.82233334\n",
      "Train Epoch: 16 Loss= 1.651106358  Accuracy= 0.825\n",
      "Train Epoch: 17 Loss= 1.647611380  Accuracy= 0.8281111\n",
      "Train Epoch: 18 Loss= 1.643717647  Accuracy= 0.831\n",
      "Train Epoch: 19 Loss= 1.639732361  Accuracy= 0.83522224\n",
      "Train Epoch: 20 Loss= 1.637134194  Accuracy= 0.83577776\n",
      "Train Epoch: 21 Loss= 1.636740208  Accuracy= 0.83588886\n",
      "Train Epoch: 22 Loss= 1.634245157  Accuracy= 0.8383333\n",
      "Train Epoch: 23 Loss= 1.631849408  Accuracy= 0.8392222\n",
      "Train Epoch: 24 Loss= 1.630473137  Accuracy= 0.84066665\n",
      "Train Epoch: 25 Loss= 1.627906680  Accuracy= 0.8427778\n",
      "Train Epoch: 26 Loss= 1.627385139  Accuracy= 0.843\n",
      "Train Epoch: 27 Loss= 1.624953389  Accuracy= 0.8441111\n",
      "Train Epoch: 28 Loss= 1.622486353  Accuracy= 0.8462222\n",
      "Train Epoch: 29 Loss= 1.621645093  Accuracy= 0.84655553\n",
      "Train Epoch: 30 Loss= 1.619646907  Accuracy= 0.8487778\n",
      "Train Epoch: 31 Loss= 1.619832516  Accuracy= 0.849\n",
      "Train Epoch: 32 Loss= 1.618090272  Accuracy= 0.85033333\n",
      "Train Epoch: 33 Loss= 1.616318345  Accuracy= 0.8523333\n",
      "Train Epoch: 34 Loss= 1.616270781  Accuracy= 0.8517778\n",
      "Train Epoch: 35 Loss= 1.613243699  Accuracy= 0.85377777\n",
      "Train Epoch: 36 Loss= 1.614537597  Accuracy= 0.8522222\n",
      "Train Epoch: 37 Loss= 1.612693787  Accuracy= 0.85366666\n",
      "Train Epoch: 38 Loss= 1.610481977  Accuracy= 0.85833335\n",
      "Train Epoch: 39 Loss= 1.610816836  Accuracy= 0.85466665\n",
      "Train Epoch: 40 Loss= 1.609061241  Accuracy= 0.8564444\n",
      "Train Epoch: 41 Loss= 1.609019876  Accuracy= 0.85733336\n",
      "Train Epoch: 42 Loss= 1.608133316  Accuracy= 0.85866666\n",
      "Train Epoch: 43 Loss= 1.607850909  Accuracy= 0.85844445\n",
      "Train Epoch: 44 Loss= 1.606253266  Accuracy= 0.85933334\n",
      "Train Epoch: 45 Loss= 1.604927778  Accuracy= 0.86244446\n",
      "Train Epoch: 46 Loss= 1.604105234  Accuracy= 0.86322224\n",
      "Train Epoch: 47 Loss= 1.602815866  Accuracy= 0.86322224\n",
      "Train Epoch: 48 Loss= 1.602419972  Accuracy= 0.86277777\n",
      "Train Epoch: 49 Loss= 1.601796389  Accuracy= 0.86377776\n",
      "Train Epoch: 50 Loss= 1.601704478  Accuracy= 0.86311114\n",
      "Train Epoch: 51 Loss= 1.599444270  Accuracy= 0.8662222\n",
      "Train Epoch: 52 Loss= 1.599991322  Accuracy= 0.8656667\n",
      "Train Epoch: 53 Loss= 1.598997116  Accuracy= 0.8658889\n",
      "Train Epoch: 54 Loss= 1.600192428  Accuracy= 0.86388886\n",
      "Train Epoch: 55 Loss= 1.598887205  Accuracy= 0.8652222\n",
      "Train Epoch: 56 Loss= 1.598509312  Accuracy= 0.8668889\n",
      "Train Epoch: 57 Loss= 1.598312259  Accuracy= 0.86644447\n",
      "Train Epoch: 58 Loss= 1.597500443  Accuracy= 0.8668889\n",
      "Train Epoch: 59 Loss= 1.597852349  Accuracy= 0.86788887\n",
      "Train Epoch: 60 Loss= 1.595729589  Accuracy= 0.869\n",
      "Train Epoch: 61 Loss= 1.595545173  Accuracy= 0.86833334\n",
      "Train Epoch: 62 Loss= 1.595914960  Accuracy= 0.86855555\n",
      "Train Epoch: 63 Loss= 1.594869137  Accuracy= 0.8691111\n",
      "Train Epoch: 64 Loss= 1.596933842  Accuracy= 0.8666667\n",
      "Train Epoch: 65 Loss= 1.594567060  Accuracy= 0.8703333\n",
      "Train Epoch: 66 Loss= 1.594009995  Accuracy= 0.8701111\n",
      "Train Epoch: 67 Loss= 1.593038201  Accuracy= 0.87\n",
      "Train Epoch: 68 Loss= 1.538215280  Accuracy= 0.93277776\n",
      "Train Epoch: 69 Loss= 1.527361512  Accuracy= 0.9437778\n",
      "Train Epoch: 70 Loss= 1.522348881  Accuracy= 0.94722223\n",
      "Train Epoch: 71 Loss= 1.520635366  Accuracy= 0.94755554\n",
      "Train Epoch: 72 Loss= 1.516911626  Accuracy= 0.9532222\n",
      "Train Epoch: 73 Loss= 1.514670968  Accuracy= 0.9538889\n",
      "Train Epoch: 74 Loss= 1.511727929  Accuracy= 0.9577778\n",
      "Train Epoch: 75 Loss= 1.511900663  Accuracy= 0.95655555\n",
      "Train Epoch: 76 Loss= 1.511976838  Accuracy= 0.956\n",
      "Train Epoch: 77 Loss= 1.510255098  Accuracy= 0.9573333\n",
      "Train Epoch: 78 Loss= 1.508753300  Accuracy= 0.9588889\n",
      "Train Epoch: 79 Loss= 1.508543372  Accuracy= 0.9574444\n",
      "Train Epoch: 80 Loss= 1.507246494  Accuracy= 0.9597778\n",
      "Train Epoch: 81 Loss= 1.508395195  Accuracy= 0.9577778\n",
      "Train Epoch: 82 Loss= 1.505165577  Accuracy= 0.9622222\n",
      "Train Epoch: 83 Loss= 1.505674362  Accuracy= 0.96088886\n",
      "Train Epoch: 84 Loss= 1.504820108  Accuracy= 0.9626667\n",
      "Train Epoch: 85 Loss= 1.504216433  Accuracy= 0.96144444\n",
      "Train Epoch: 86 Loss= 1.503095508  Accuracy= 0.9641111\n",
      "Train Epoch: 87 Loss= 1.503007412  Accuracy= 0.963\n",
      "Train Epoch: 88 Loss= 1.500901461  Accuracy= 0.9663333\n",
      "Train Epoch: 89 Loss= 1.500379086  Accuracy= 0.96555555\n",
      "Train Epoch: 90 Loss= 1.501794934  Accuracy= 0.96455556\n",
      "Train Epoch: 91 Loss= 1.500688553  Accuracy= 0.966\n",
      "Train Epoch: 92 Loss= 1.499580145  Accuracy= 0.9671111\n",
      "Train Epoch: 93 Loss= 1.499700069  Accuracy= 0.9661111\n",
      "Train Epoch: 94 Loss= 1.499155402  Accuracy= 0.96655554\n",
      "Train Epoch: 95 Loss= 1.498484135  Accuracy= 0.9667778\n",
      "Train Epoch: 96 Loss= 1.497123003  Accuracy= 0.96922225\n",
      "Train Epoch: 97 Loss= 1.498844862  Accuracy= 0.9683333\n",
      "Train Epoch: 98 Loss= 1.499462485  Accuracy= 0.9662222\n",
      "Train Epoch: 99 Loss= 1.497730255  Accuracy= 0.967\n",
      "Train Epoch: 100 Loss= 1.497479558  Accuracy= 0.9683333\n",
      "Train Finished takes: 148.78774857521057\n"
     ]
    }
   ],
   "source": [
    "for epoch in range(trainEpochs):\n",
    "\n",
    "    \n",
    "    for i in range(totalBatchs):\n",
    "        #batch_x, batch_y = mnist.train.next_batch(batchSize)\n",
    "        x_batch, y_true_batch, _, cls_batch = data.train.next_batch(train_batch_size)\n",
    "        \n",
    "        # Convert shape from [num examples, rows, columns, depth]\n",
    "        # to [num examples, flattened image shape]\n",
    "        x_batch = x_batch.reshape(train_batch_size, img_size_flat)\n",
    "        \n",
    "        #sess.run(optimizer,feed_dict={x: batch_x, y_label: batch_y})\n",
    "        sess.run(optimizer,feed_dict={x: x_batch, y_label: y_true_batch})\n",
    "    x_valid_batch, y_vtrue_batch, _, valid_cls_batch = data.valid.next_batch(valid_batch_size)\n",
    "    x_valid_batch = x_valid_batch.reshape(valid_batch_size, img_size_flat)\n",
    "    loss,acc = sess.run([loss_function,accuracy],\n",
    "                        feed_dict={x: x_valid_batch, \n",
    "                                   y_label: y_vtrue_batch})\n",
    "\n",
    "    epoch_list.append(epoch)\n",
    "    loss_list.append(loss);accuracy_list.append(acc)    \n",
    "    \n",
    "    print(\"Train Epoch:\", '%02d' % (epoch+1), \\\n",
    "          \"Loss=\",\"{:.9f}\".format(loss),\" Accuracy=\",acc)\n",
    "    \n",
    "duration =time()-startTime\n",
    "print(\"Train Finished takes:\",duration)         "
   ]
  },
  {
   "cell_type": "code",
   "execution_count": 21,
   "metadata": {},
   "outputs": [
    {
     "data": {
      "text/plain": [
       "<matplotlib.legend.Legend at 0x1802df5d7f0>"
      ]
     },
     "execution_count": 21,
     "metadata": {},
     "output_type": "execute_result"
    },
    {
     "data": {
      "image/png": "[encoded data removed]",
      "text/plain": [
       "<Figure size 288x144 with 1 Axes>"
      ]
     },
     "metadata": {},
     "output_type": "display_data"
    }
   ],
   "source": [
    "%matplotlib inline\n",
    "import matplotlib.pyplot as plt\n",
    "fig = plt.gcf()\n",
    "fig.set_size_inches(4,2)\n",
    "plt.plot(epoch_list, loss_list, label = 'loss')\n",
    "plt.ylabel('loss')\n",
    "plt.xlabel('epoch')\n",
    "plt.legend(['loss'], loc='upper left')"
   ]
  },
  {
   "cell_type": "code",
   "execution_count": 22,
   "metadata": {},
   "outputs": [
    {
     "data": {
      "image/png": "[encoded data removed]",
      "text/plain": [
       "<Figure size 288x144 with 1 Axes>"
      ]
     },
     "metadata": {},
     "output_type": "display_data"
    }
   ],
   "source": [
    "plt.plot(epoch_list, accuracy_list,label=\"accuracy\" )\n",
    "fig = plt.gcf()\n",
    "fig.set_size_inches(4,2)\n",
    "plt.ylim(0.3,1)\n",
    "plt.ylabel('accuracy')\n",
    "plt.xlabel('epoch')\n",
    "plt.legend()\n",
    "plt.show()\n"
   ]
  },
  {
   "cell_type": "markdown",
   "metadata": {},
   "source": [
    "# 評估模型準確率"
   ]
  },
  {
   "cell_type": "code",
   "execution_count": 41,
   "metadata": {},
   "outputs": [
    {
     "data": {
      "text/plain": [
       "9000"
      ]
     },
     "execution_count": 41,
     "metadata": {},
     "output_type": "execute_result"
    }
   ],
   "source": [
    "len(data.test.labels)"
   ]
  },
  {
   "cell_type": "code",
   "execution_count": 23,
   "metadata": {},
   "outputs": [
    {
     "name": "stdout",
     "output_type": "stream",
     "text": [
      "Accuracy: 0.9667778\n"
     ]
    }
   ],
   "source": [
    "test_size = 9000\n",
    "x_test_batch, y_test_batch, _, test_cls_batch = data.test.next_batch(test_size)\n",
    "x_test_batch = x_test_batch.reshape(test_size, img_size_flat)\n",
    "print(\"Accuracy:\", \n",
    "      sess.run(accuracy,feed_dict={x: x_test_batch,\n",
    "                                   y_label: y_test_batch}))"
   ]
  },
  {
   "cell_type": "code",
   "execution_count": 24,
   "metadata": {},
   "outputs": [
    {
     "name": "stdout",
     "output_type": "stream",
     "text": [
      "Accuracy: 0.96577775\n"
     ]
    }
   ],
   "source": [
    "print(\"Accuracy:\", \n",
    "      sess.run(accuracy,feed_dict={x: x_test_batch[:4500],\n",
    "                                   y_label: y_test_batch[:4500]}))\n"
   ]
  },
  {
   "cell_type": "code",
   "execution_count": 25,
   "metadata": {},
   "outputs": [
    {
     "name": "stdout",
     "output_type": "stream",
     "text": [
      "Accuracy: 0.9662222\n"
     ]
    }
   ],
   "source": [
    "print(\"Accuracy:\", \n",
    "      sess.run(accuracy,feed_dict={x:x_test_batch[4500:],\n",
    "                                   y_label: y_test_batch[4500:]}))"
   ]
  },
  {
   "cell_type": "markdown",
   "metadata": {},
   "source": [
    "# 預測機率"
   ]
  },
  {
   "cell_type": "code",
   "execution_count": 26,
   "metadata": {},
   "outputs": [],
   "source": [
    "y_predict=sess.run(y_predict, \n",
    "                   feed_dict={x: x_test_batch[:10]})"
   ]
  },
  {
   "cell_type": "code",
   "execution_count": 27,
   "metadata": {},
   "outputs": [
    {
     "data": {
      "text/plain": [
       "array([[4.2875996e-07, 8.6289695e-09, 2.0192640e-06, 1.2591312e-08,\n",
       "        1.6716203e-07, 5.9919851e-09, 1.1490635e-12, 9.9912602e-01,\n",
       "        2.3220027e-06, 8.6916314e-04],\n",
       "       [2.5586321e-04, 6.8899666e-05, 1.4016858e-06, 1.3171338e-06,\n",
       "        7.7948040e-05, 4.3490318e-06, 1.0658136e-06, 1.4240404e-04,\n",
       "        9.8844939e-01, 1.0997422e-02],\n",
       "       [3.6171818e-07, 9.9960130e-01, 2.4218833e-05, 2.0903489e-08,\n",
       "        2.0076653e-04, 2.4484893e-06, 1.3772189e-04, 4.1349854e-06,\n",
       "        2.8919247e-05, 1.4134374e-09],\n",
       "       [1.6387397e-14, 3.8094265e-15, 1.0000000e+00, 2.1519066e-10,\n",
       "        1.7972870e-20, 5.8015644e-18, 2.7616364e-15, 1.7679805e-18,\n",
       "        5.5741459e-16, 1.1446914e-16],\n",
       "       [3.9941742e-08, 9.9951470e-01, 5.9346203e-05, 8.4165316e-07,\n",
       "        1.4781358e-05, 1.0161296e-09, 3.2229926e-07, 3.7068181e-04,\n",
       "        3.9214559e-05, 8.7661462e-08]], dtype=float32)"
      ]
     },
     "execution_count": 27,
     "metadata": {},
     "output_type": "execute_result"
    }
   ],
   "source": [
    "y_predict[:5]"
   ]
  },
  {
   "cell_type": "markdown",
   "metadata": {},
   "source": [
    "# 預測結果"
   ]
  },
  {
   "cell_type": "code",
   "execution_count": 28,
   "metadata": {},
   "outputs": [],
   "source": [
    "prediction_result=sess.run(tf.argmax(y_predict,1),\n",
    "                           feed_dict={x:x_test_batch ,\n",
    "                                      y_label:y_test_batch})"
   ]
  },
  {
   "cell_type": "code",
   "execution_count": 29,
   "metadata": {},
   "outputs": [
    {
     "data": {
      "text/plain": [
       "array([7, 8, 1, 2, 1, 5, 2, 1, 6, 4], dtype=int64)"
      ]
     },
     "execution_count": 29,
     "metadata": {},
     "output_type": "execute_result"
    }
   ],
   "source": [
    "prediction_result[:10]"
   ]
  },
  {
   "cell_type": "code",
   "execution_count": 30,
   "metadata": {},
   "outputs": [],
   "source": [
    "import numpy as np\n",
    "def show_images_labels_predict(images,labels,prediction_result):\n",
    "    fig = plt.gcf()\n",
    "    fig.set_size_inches(8, 10)\n",
    "    for i in range(0, 10):\n",
    "        ax=plt.subplot(5,5, 1+i)\n",
    "        ax.imshow(np.reshape(images[i],(28, 28)), \n",
    "                  cmap='binary')\n",
    "        ax.set_title(\"label=\" +str(np.argmax(labels[i]))+\n",
    "                     \",predict=\"+str(prediction_result[i])\n",
    "                     ,fontsize=9) \n",
    "    plt.show()"
   ]
  },
  {
   "cell_type": "code",
   "execution_count": 31,
   "metadata": {},
   "outputs": [
    {
     "data": {
      "image/png": "[encoded data removed]",
      "text/plain": [
       "<Figure size 576x720 with 10 Axes>"
      ]
     },
     "metadata": {},
     "output_type": "display_data"
    }
   ],
   "source": [
    "show_images_labels_predict(data.test.images,data.test.labels,prediction_result)"
   ]
  },
  {
   "cell_type": "markdown",
   "metadata": {},
   "source": [
    "# 找出預測錯誤"
   ]
  },
  {
   "cell_type": "code",
   "execution_count": 33,
   "metadata": {},
   "outputs": [
    {
     "ename": "NameError",
     "evalue": "name 'mnist' is not defined",
     "output_type": "error",
     "traceback": [
      "\u001b[1;31m---------------------------------------------------------------------------\u001b[0m",
      "\u001b[1;31mNameError\u001b[0m                                 Traceback (most recent call last)",
      "\u001b[1;32m<ipython-input-33-387f47ff022f>\u001b[0m in \u001b[0;36m<module>\u001b[1;34m()\u001b[0m\n\u001b[0;32m      1\u001b[0m \u001b[1;32mfor\u001b[0m \u001b[0mi\u001b[0m \u001b[1;32min\u001b[0m \u001b[0mrange\u001b[0m\u001b[1;33m(\u001b[0m\u001b[1;36m500\u001b[0m\u001b[1;33m)\u001b[0m\u001b[1;33m:\u001b[0m\u001b[1;33m\u001b[0m\u001b[0m\n\u001b[1;32m----> 2\u001b[1;33m     \u001b[1;32mif\u001b[0m \u001b[0mprediction_result\u001b[0m\u001b[1;33m[\u001b[0m\u001b[0mi\u001b[0m\u001b[1;33m]\u001b[0m\u001b[1;33m!=\u001b[0m\u001b[0mnp\u001b[0m\u001b[1;33m.\u001b[0m\u001b[0margmax\u001b[0m\u001b[1;33m(\u001b[0m\u001b[0mmnist\u001b[0m\u001b[1;33m.\u001b[0m\u001b[0mtest\u001b[0m\u001b[1;33m.\u001b[0m\u001b[0mlabels\u001b[0m\u001b[1;33m[\u001b[0m\u001b[0mi\u001b[0m\u001b[1;33m]\u001b[0m\u001b[1;33m)\u001b[0m\u001b[1;33m:\u001b[0m\u001b[1;33m\u001b[0m\u001b[0m\n\u001b[0m\u001b[0;32m      3\u001b[0m         print(\"i=\"+str(i)+\n\u001b[0;32m      4\u001b[0m               \u001b[1;34m\"   label=\"\u001b[0m\u001b[1;33m,\u001b[0m\u001b[0mnp\u001b[0m\u001b[1;33m.\u001b[0m\u001b[0margmax\u001b[0m\u001b[1;33m(\u001b[0m\u001b[0mmnist\u001b[0m\u001b[1;33m.\u001b[0m\u001b[0mtest\u001b[0m\u001b[1;33m.\u001b[0m\u001b[0mlabels\u001b[0m\u001b[1;33m[\u001b[0m\u001b[0mi\u001b[0m\u001b[1;33m]\u001b[0m\u001b[1;33m)\u001b[0m\u001b[1;33m,\u001b[0m\u001b[1;33m\u001b[0m\u001b[0m\n\u001b[0;32m      5\u001b[0m               \"predict=\",prediction_result[i])\n",
      "\u001b[1;31mNameError\u001b[0m: name 'mnist' is not defined"
     ]
    }
   ],
   "source": [
    "for i in range(500):\n",
    "    if prediction_result[i]!=np.argmax(mnist.test.labels[i]):\n",
    "        print(\"i=\"+str(i)+\n",
    "              \"   label=\",np.argmax(mnist.test.labels[i]),\n",
    "              \"predict=\",prediction_result[i])"
   ]
  },
  {
   "cell_type": "code",
   "execution_count": 31,
   "metadata": {
    "collapsed": true
   },
   "outputs": [],
   "source": [
    "def show_images_labels_predict_error(images,labels,prediction_result):\n",
    "    fig = plt.gcf()\n",
    "    fig.set_size_inches(8, 10)\n",
    "    i=0;j=0\n",
    "    while i<10:\n",
    "        if prediction_result[j]!=np.argmax(labels[j]):\n",
    "            ax=plt.subplot(5,5, 1+i)\n",
    "            ax.imshow(np.reshape(images[j],(28, 28)), \n",
    "                      cmap='binary')\n",
    "            ax.set_title(\"j=\"+str(j)+\n",
    "                         \",l=\" +str(np.argmax(labels[j]))+\n",
    "                         \",p=\"+str(prediction_result[j])\n",
    "                         ,fontsize=9) \n",
    "            i=i+1  \n",
    "        j=j+1\n",
    "    plt.show()"
   ]
  },
  {
   "cell_type": "code",
   "execution_count": 32,
   "metadata": {},
   "outputs": [
    {
     "data": {
      "image/png": "[encoded data removed]",
      "text/plain": [
       "<matplotlib.figure.Figure at 0x7f07014b2a58>"
      ]
     },
     "metadata": {},
     "output_type": "display_data"
    }
   ],
   "source": [
    "show_images_labels_predict_error(mnist.test.images,mnist.test.labels,prediction_result)"
   ]
  },
  {
   "cell_type": "code",
   "execution_count": 33,
   "metadata": {
    "collapsed": true
   },
   "outputs": [],
   "source": [
    "saver = tf.train.Saver()"
   ]
  },
  {
   "cell_type": "code",
   "execution_count": 34,
   "metadata": {},
   "outputs": [],
   "source": [
    "save_path = saver.save(sess, \"set_model/CNN\")"
   ]
  },
  {
   "cell_type": "code",
   "execution_count": 35,
   "metadata": {},
   "outputs": [
    {
     "name": "stdout",
     "output_type": "stream",
     "text": [
      "Model saved in file: saveModel/CNN_model1\n"
     ]
    }
   ],
   "source": [
    "print(\"Model saved in file: %s\" % save_path)"
   ]
  },
  {
   "cell_type": "code",
   "execution_count": 36,
   "metadata": {
    "collapsed": true
   },
   "outputs": [],
   "source": [
    "merged = tf.summary.merge_all()\n",
    "train_writer = tf.summary.FileWriter('log/CNN',sess.graph)"
   ]
  },
  {
   "cell_type": "code",
   "execution_count": 37,
   "metadata": {
    "collapsed": true
   },
   "outputs": [],
   "source": [
    "#sess.close()"
   ]
  }
 ],
 "metadata": {
  "anaconda-cloud": {},
  "kernelspec": {
   "display_name": "Python 3",
   "language": "python",
   "name": "python3"
  },
  "language_info": {
   "codemirror_mode": {
    "name": "ipython",
    "version": 3
   },
   "file_extension": ".py",
   "mimetype": "text/x-python",
   "name": "python",
   "nbconvert_exporter": "python",
   "pygments_lexer": "ipython3",
   "version": "3.6.5"
  }
 },
 "nbformat": 4,
 "nbformat_minor": 1
}
